{
 "cells": [
  {
   "cell_type": "markdown",
   "id": "2cadc503",
   "metadata": {},
   "source": [
    "# Question1"
   ]
  },
  {
   "cell_type": "code",
   "execution_count": null,
   "id": "9ed2ce51",
   "metadata": {},
   "outputs": [],
   "source": [
    "l=[]\n",
    "for i in range(2000,3201):\n",
    "    if not i%5 == 0 and i%7==0:\n",
    "        l.append(i)\n",
    "l\n"
   ]
  },
  {
   "cell_type": "markdown",
   "id": "7fcb5339",
   "metadata": {},
   "source": [
    "# Qestion 2"
   ]
  },
  {
   "cell_type": "code",
   "execution_count": null,
   "id": "4eb33561",
   "metadata": {},
   "outputs": [],
   "source": [
    "def l(a): \n",
    "    if a==0 :\n",
    "        print('1')\n",
    "              \n",
    "    if a<0 :\n",
    "        print(\"impossible\")\n",
    "    \n",
    "    if a ==1 :\n",
    "        return a\n",
    "              \n",
    "    elif a > 0 and (a-1) > 0 :\n",
    "        return a*l(a-1)\n",
    "    \n",
    "num=int(input(\"\"))\n",
    "l(num)"
   ]
  },
  {
   "cell_type": "markdown",
   "id": "6efdddb2",
   "metadata": {},
   "source": [
    "# Question 3"
   ]
  },
  {
   "cell_type": "code",
   "execution_count": 18,
   "id": "c2991f33",
   "metadata": {
    "scrolled": true
   },
   "outputs": [
    {
     "name": "stdout",
     "output_type": "stream",
     "text": [
      "9\n",
      "{1: 1, 2: 4, 3: 9, 4: 16, 5: 25, 6: 36, 7: 49, 8: 64, 9: 81}\n"
     ]
    }
   ],
   "source": [
    "dic={};l=[];a=int(input(\"\"));dic1={}\n",
    "for i in range(a+1):\n",
    "    dic1={i:i**2}\n",
    "    dic.update(dic1)\n",
    "dic.pop(0)\n",
    "print(dic)  "
   ]
  },
  {
   "cell_type": "markdown",
   "id": "f544b7fd",
   "metadata": {},
   "source": [
    "# Question 4"
   ]
  },
  {
   "cell_type": "code",
   "execution_count": 34,
   "id": "e5a1ae38",
   "metadata": {},
   "outputs": [
    {
     "data": {
      "text/plain": [
       "'Hllo I'"
      ]
     },
     "execution_count": 34,
     "metadata": {},
     "output_type": "execute_result"
    }
   ],
   "source": [
    "def cha_r(a,f):  \n",
    "    b=a[f+1:]\n",
    "    c=a[:f]\n",
    "    d=c+b\n",
    "    return d\n",
    "cha_r(\"Hello I\",1)"
   ]
  },
  {
   "cell_type": "markdown",
   "id": "ba8a6f78",
   "metadata": {},
   "source": [
    "# Questions 5-6"
   ]
  },
  {
   "cell_type": "code",
   "execution_count": 51,
   "id": "4dfdf6d4",
   "metadata": {},
   "outputs": [
    {
     "data": {
      "text/plain": [
       "[[1, 2], [3, 4]]"
      ]
     },
     "execution_count": 51,
     "metadata": {},
     "output_type": "execute_result"
    }
   ],
   "source": [
    "import numpy as np\n",
    "a=np.array([[1,2],[3,4]])\n",
    "c=np.array([[2,3],[4,1]])\n",
    "b=a.tolist()\n",
    "b"
   ]
  },
  {
   "cell_type": "code",
   "execution_count": 52,
   "id": "f176e68f",
   "metadata": {},
   "outputs": [
    {
     "data": {
      "text/plain": [
       "array([[ 0.5,  0.5,  0.5, -1.5],\n",
       "       [ 0.5,  0.5,  0.5, -1.5],\n",
       "       [ 0.5,  0.5,  0.5, -1.5],\n",
       "       [-1.5, -1.5, -1.5,  4.5]])"
      ]
     },
     "execution_count": 52,
     "metadata": {},
     "output_type": "execute_result"
    }
   ],
   "source": [
    "np.cov(a,c)"
   ]
  },
  {
   "cell_type": "markdown",
   "id": "9beba01c",
   "metadata": {},
   "source": [
    "# Question 7\n"
   ]
  },
  {
   "cell_type": "code",
   "execution_count": 80,
   "id": "4cdd3159",
   "metadata": {},
   "outputs": [
    {
     "name": "stdout",
     "output_type": "stream",
     "text": [
      "enter the values12,27,53,15,31\n",
      "6\n",
      "9\n",
      "13\n",
      "7\n",
      "10\n"
     ]
    }
   ],
   "source": [
    "import math as mt\n",
    "def sqrtQ(C,D,H):\n",
    "    Q=mt.sqrt((2*C*D)/H)\n",
    "    f=str(Q)\n",
    "    f=f.split(\".\")\n",
    "    f=f[0]\n",
    "    int(f)\n",
    "    return f\n",
    "C=50\n",
    "H=30\n",
    "D=input(\"enter the values\")\n",
    "D=D.split(\",\")\n",
    "for i in D :\n",
    "    k=sqrtQ(C,int(i),H)\n",
    "    print(k)\n",
    "            "
   ]
  }
 ],
 "metadata": {
  "kernelspec": {
   "display_name": "Python 3 (ipykernel)",
   "language": "python",
   "name": "python3"
  },
  "language_info": {
   "codemirror_mode": {
    "name": "ipython",
    "version": 3
   },
   "file_extension": ".py",
   "mimetype": "text/x-python",
   "name": "python",
   "nbconvert_exporter": "python",
   "pygments_lexer": "ipython3",
   "version": "3.9.13"
  }
 },
 "nbformat": 4,
 "nbformat_minor": 5
}
